{
 "cells": [
  {
   "cell_type": "markdown",
   "id": "1b3ecc27",
   "metadata": {},
   "source": [
    "# Modelo Preditivo de Magnitude de Terremotos\n",
    "Este notebook treina um modelo de machine learning para prever a magnitude de um terremoto com base em profundidade, localização geográfica e placa tectônica."
   ]
  },
  {
   "cell_type": "code",
   "execution_count": 1,
   "id": "5de8a927",
   "metadata": {},
   "outputs": [],
   "source": [
    "import pandas as pd\n",
    "from sklearn.model_selection import train_test_split\n",
    "from sklearn.ensemble import RandomForestRegressor\n",
    "from sklearn.preprocessing import OneHotEncoder\n",
    "from sklearn.metrics import mean_absolute_error, mean_squared_error, r2_score\n",
    "from sklearn.compose import ColumnTransformer\n",
    "from sklearn.pipeline import Pipeline\n",
    "import joblib\n",
    "import numpy as np\n"
   ]
  },
  {
   "cell_type": "markdown",
   "id": "029a6640",
   "metadata": {},
   "source": [
    "## Carregamento dos dados\n",
    "Aqui lemos os dados processados e criamos uma coluna de exemplo chamada `placa_tectonica` caso ela ainda não exista, para simular esse fator geológico."
   ]
  },
  {
   "cell_type": "code",
   "execution_count": 2,
   "id": "5fbf35a5",
   "metadata": {},
   "outputs": [
    {
     "data": {
      "text/html": [
       "<div>\n",
       "<style scoped>\n",
       "    .dataframe tbody tr th:only-of-type {\n",
       "        vertical-align: middle;\n",
       "    }\n",
       "\n",
       "    .dataframe tbody tr th {\n",
       "        vertical-align: top;\n",
       "    }\n",
       "\n",
       "    .dataframe thead th {\n",
       "        text-align: right;\n",
       "    }\n",
       "</style>\n",
       "<table border=\"1\" class=\"dataframe\">\n",
       "  <thead>\n",
       "    <tr style=\"text-align: right;\">\n",
       "      <th></th>\n",
       "      <th>data_hora</th>\n",
       "      <th>local</th>\n",
       "      <th>magnitude</th>\n",
       "      <th>profundidade_km</th>\n",
       "      <th>longitude</th>\n",
       "      <th>latitude</th>\n",
       "      <th>nivel</th>\n",
       "      <th>placa_tectonica</th>\n",
       "    </tr>\n",
       "  </thead>\n",
       "  <tbody>\n",
       "    <tr>\n",
       "      <th>0</th>\n",
       "      <td>2024-12-30 05:49:02.808</td>\n",
       "      <td>13 km NW of Port-Vila, Vanuatu</td>\n",
       "      <td>5.1</td>\n",
       "      <td>66.612</td>\n",
       "      <td>168.2183</td>\n",
       "      <td>-17.6555</td>\n",
       "      <td>leve</td>\n",
       "      <td>Eurasiática</td>\n",
       "    </tr>\n",
       "    <tr>\n",
       "      <th>1</th>\n",
       "      <td>2024-12-30 05:41:06.678</td>\n",
       "      <td>63 km W of Coquimbo, Chile</td>\n",
       "      <td>5.5</td>\n",
       "      <td>10.000</td>\n",
       "      <td>-71.9959</td>\n",
       "      <td>-29.9272</td>\n",
       "      <td>leve</td>\n",
       "      <td>Nazca</td>\n",
       "    </tr>\n",
       "    <tr>\n",
       "      <th>2</th>\n",
       "      <td>2024-12-30 05:40:49.297</td>\n",
       "      <td>68 km W of Coquimbo, Chile</td>\n",
       "      <td>5.5</td>\n",
       "      <td>10.000</td>\n",
       "      <td>-72.0531</td>\n",
       "      <td>-29.9251</td>\n",
       "      <td>leve</td>\n",
       "      <td>Nazca</td>\n",
       "    </tr>\n",
       "    <tr>\n",
       "      <th>3</th>\n",
       "      <td>2024-12-30 02:56:16.807</td>\n",
       "      <td>18 km SE of Bangui, Philippines</td>\n",
       "      <td>5.5</td>\n",
       "      <td>34.000</td>\n",
       "      <td>120.9038</td>\n",
       "      <td>18.4391</td>\n",
       "      <td>leve</td>\n",
       "      <td>Sul-Americana</td>\n",
       "    </tr>\n",
       "    <tr>\n",
       "      <th>4</th>\n",
       "      <td>2024-12-29 22:20:41.330</td>\n",
       "      <td>34 km NNW of Āwash, Ethiopia</td>\n",
       "      <td>5.1</td>\n",
       "      <td>10.000</td>\n",
       "      <td>40.0491</td>\n",
       "      <td>9.2754</td>\n",
       "      <td>leve</td>\n",
       "      <td>Cocos</td>\n",
       "    </tr>\n",
       "  </tbody>\n",
       "</table>\n",
       "</div>"
      ],
      "text/plain": [
       "                 data_hora                            local  magnitude  \\\n",
       "0  2024-12-30 05:49:02.808   13 km NW of Port-Vila, Vanuatu        5.1   \n",
       "1  2024-12-30 05:41:06.678       63 km W of Coquimbo, Chile        5.5   \n",
       "2  2024-12-30 05:40:49.297       68 km W of Coquimbo, Chile        5.5   \n",
       "3  2024-12-30 02:56:16.807  18 km SE of Bangui, Philippines        5.5   \n",
       "4  2024-12-29 22:20:41.330     34 km NNW of Āwash, Ethiopia        5.1   \n",
       "\n",
       "   profundidade_km  longitude  latitude nivel placa_tectonica  \n",
       "0           66.612   168.2183  -17.6555  leve     Eurasiática  \n",
       "1           10.000   -71.9959  -29.9272  leve           Nazca  \n",
       "2           10.000   -72.0531  -29.9251  leve           Nazca  \n",
       "3           34.000   120.9038   18.4391  leve   Sul-Americana  \n",
       "4           10.000    40.0491    9.2754  leve           Cocos  "
      ]
     },
     "execution_count": 2,
     "metadata": {},
     "output_type": "execute_result"
    }
   ],
   "source": [
    "df = pd.read_csv(\"../dados_processados/terremotos_processados.csv\")\n",
    "\n",
    "# Criar coluna simulada\n",
    "if \"placa_tectonica\" not in df.columns:\n",
    "    placas = ['Pacífica', 'Nazca', 'Cocos', 'Eurasiática', 'Sul-Americana']\n",
    "    df['placa_tectonica'] = np.random.choice(placas, size=len(df))\n",
    "\n",
    "df.head()"
   ]
  },
  {
   "cell_type": "markdown",
   "id": "629691af",
   "metadata": {},
   "source": [
    "## Construção do Modelo\n",
    "Usamos um `RandomForestRegressor`, um modelo baseado em várias árvores de decisão, ideal para prever valores contínuos como a magnitude."
   ]
  },
  {
   "cell_type": "code",
   "execution_count": 3,
   "id": "8e83df77",
   "metadata": {},
   "outputs": [],
   "source": [
    "X = df[[\"profundidade_km\", \"latitude\", \"longitude\", \"placa_tectonica\"]]\n",
    "y = df[\"magnitude\"]\n",
    "\n",
    "categorical_features = [\"placa_tectonica\"]\n",
    "numeric_features = [\"profundidade_km\", \"latitude\", \"longitude\"]\n",
    "\n",
    "preprocessor = ColumnTransformer([\n",
    "    (\"onehot\", OneHotEncoder(), categorical_features)\n",
    "], remainder='passthrough')\n",
    "\n",
    "pipeline = Pipeline([\n",
    "    (\"preprocessamento\", preprocessor),\n",
    "    (\"regressor\", RandomForestRegressor(random_state=42))\n",
    "])\n"
   ]
  },
  {
   "cell_type": "markdown",
   "id": "abb2b9fd",
   "metadata": {},
   "source": [
    "## Treinamento e Avaliação\n",
    "Dividimos os dados entre treino e teste, treinamos o modelo e avaliamos com métricas como MAE, RMSE e R². \n",
    "- MAE (erro médio absoluto)\n",
    "- RMSE (raiz do erro quadrático médio)\n",
    "- R² (coeficiente de determinação — quanto o modelo explica dos dados)"
   ]
  },
  {
   "cell_type": "code",
   "execution_count": 4,
   "id": "fd560c40",
   "metadata": {},
   "outputs": [
    {
     "name": "stdout",
     "output_type": "stream",
     "text": [
      "Avaliação do Modelo:\n",
      "MAE:  0.286\n",
      "RMSE: 0.407\n",
      "R²:   0.014\n"
     ]
    }
   ],
   "source": [
    "X_train, X_test, y_train, y_test = train_test_split(X, y, test_size=0.2, random_state=42)\n",
    "pipeline.fit(X_train, y_train)\n",
    "\n",
    "y_pred = pipeline.predict(X_test)\n",
    "\n",
    "print(\"Avaliação do Modelo:\")\n",
    "print(f\"MAE:  {mean_absolute_error(y_test, y_pred):.3f}\")\n",
    "print(f\"RMSE: {mean_squared_error(y_test, y_pred, squared=False):.3f}\")\n",
    "print(f\"R²:   {r2_score(y_test, y_pred):.3f}\")\n"
   ]
  },
  {
   "cell_type": "markdown",
   "id": "3cdf0901",
   "metadata": {},
   "source": [
    "## Salvamento do Modelo\n",
    "O modelo é salvo com `joblib` para ser reutilizado sem precisar treinar novamente."
   ]
  },
  {
   "cell_type": "code",
   "execution_count": 5,
   "id": "371a1744",
   "metadata": {},
   "outputs": [
    {
     "data": {
      "text/plain": [
       "['../modelo_magnitude_terremoto.pkl']"
      ]
     },
     "execution_count": 5,
     "metadata": {},
     "output_type": "execute_result"
    }
   ],
   "source": [
    "joblib.dump(pipeline, \"../modelo_magnitude_terremoto.pkl\")\n"
   ]
  }
 ],
 "metadata": {
  "kernelspec": {
   "display_name": "venv",
   "language": "python",
   "name": "python3"
  },
  "language_info": {
   "codemirror_mode": {
    "name": "ipython",
    "version": 3
   },
   "file_extension": ".py",
   "mimetype": "text/x-python",
   "name": "python",
   "nbconvert_exporter": "python",
   "pygments_lexer": "ipython3",
   "version": "3.8.10"
  }
 },
 "nbformat": 4,
 "nbformat_minor": 5
}
