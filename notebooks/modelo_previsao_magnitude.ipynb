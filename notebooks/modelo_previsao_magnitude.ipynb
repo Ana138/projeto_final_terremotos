{
 "cells": [
  {
   "cell_type": "code",
   "execution_count": 7,
   "id": "668553ff",
   "metadata": {},
   "outputs": [
    {
     "name": "stdout",
     "output_type": "stream",
     "text": [
      "Avaliação do Modelo:\n",
      "MAE: 0.292\n",
      "RMSE: 0.405\n",
      "R²: 0.025\n",
      "\n",
      "Modelo salvo em '../modelos/modelo_magnitude.pkl'\n",
      "Dados salvos em '../dados_processados/terremotos_features.parquet'\n"
     ]
    }
   ],
   "source": [
    "# notebook: notebooks/modelo_previsao_magnitude.ipynb\n",
    "\n",
    "import pandas as pd\n",
    "import numpy as np\n",
    "import matplotlib.pyplot as plt\n",
    "import seaborn as sns\n",
    "import joblib\n",
    "from sklearn.model_selection import train_test_split\n",
    "from sklearn.ensemble import RandomForestRegressor\n",
    "from sklearn.metrics import mean_absolute_error, mean_squared_error, r2_score\n",
    "from sklearn.preprocessing import LabelEncoder\n",
    "import os\n",
    "\n",
    "# 1. Carregar os dados\n",
    "df = pd.read_csv('../dados_processados/terremotos_processados.csv', parse_dates=['data_hora'])\n",
    "\n",
    "# 2. Pré-processamento\n",
    "# Remover registros com valores nulos em colunas importantes\n",
    "df.dropna(subset=['latitude', 'longitude', 'profundidade_km', 'magnitude', 'local'], inplace=True)\n",
    "\n",
    "# 3. Criar features a partir da data\n",
    "df['ano'] = df['data_hora'].dt.year\n",
    "df['mes'] = df['data_hora'].dt.month\n",
    "df['dia_semana'] = df['data_hora'].dt.dayofweek\n",
    "df['hora'] = df['data_hora'].dt.hour\n",
    "\n",
    "# 4. Codificar variável categórica 'local'\n",
    "le_local = LabelEncoder()\n",
    "df['local_cod'] = le_local.fit_transform(df['local'])\n",
    "\n",
    "# 5. Definir features (X) e target (y)\n",
    "X = df[['latitude', 'longitude', 'profundidade_km', 'local_cod', 'ano', 'mes', 'dia_semana', 'hora']]\n",
    "y = df['magnitude']\n",
    "\n",
    "# 6. Separar treino e teste\n",
    "X_train, X_test, y_train, y_test = train_test_split(X, y, test_size=0.2, random_state=42)\n",
    "\n",
    "# 7. Treinar modelo\n",
    "modelo = RandomForestRegressor(n_estimators=100, random_state=42)\n",
    "modelo.fit(X_train, y_train)\n",
    "\n",
    "# 8. Avaliação do modelo\n",
    "y_pred = modelo.predict(X_test)\n",
    "mae = mean_absolute_error(y_test, y_pred)\n",
    "rmse = np.sqrt(mean_squared_error(y_test, y_pred))\n",
    "r2 = r2_score(y_test, y_pred)\n",
    "\n",
    "print(\"Avaliação do Modelo:\")\n",
    "print(f\"MAE: {mae:.3f}\")\n",
    "print(f\"RMSE: {rmse:.3f}\")\n",
    "print(f\"R²: {r2:.3f}\")\n",
    "\n",
    "# 9. Salvar o modelo e os dados preditivos\n",
    "os.makedirs('../modelos', exist_ok=True)\n",
    "joblib.dump(modelo, '../modelos/modelo_magnitude.pkl')\n",
    "df.to_parquet('../dados_processados/terremotos_features.parquet', index=False)\n",
    "\n",
    "print(\"\\nModelo salvo em '../modelos/modelo_magnitude.pkl'\")\n",
    "print(\"Dados salvos em '../dados_processados/terremotos_features.parquet'\")\n"
   ]
  }
 ],
 "metadata": {
  "kernelspec": {
   "display_name": "venv",
   "language": "python",
   "name": "python3"
  },
  "language_info": {
   "codemirror_mode": {
    "name": "ipython",
    "version": 3
   },
   "file_extension": ".py",
   "mimetype": "text/x-python",
   "name": "python",
   "nbconvert_exporter": "python",
   "pygments_lexer": "ipython3",
   "version": "3.8.10"
  }
 },
 "nbformat": 4,
 "nbformat_minor": 5
}
